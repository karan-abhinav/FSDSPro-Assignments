{
 "cells": [
  {
   "cell_type": "markdown",
   "id": "c2f9e5df-cfb1-42ab-b378-7dd9850fc198",
   "metadata": {},
   "source": [
    "# TOPIC: Python Basics Variable\n",
    "Problem 1: Declare two variables, `x` and `y`, and assign them integer values.\n",
    "Swap the values of these variables without using any temporary\n",
    "variable."
   ]
  },
  {
   "cell_type": "markdown",
   "id": "45debda9-e422-4c17-81d9-a7c8feba28d1",
   "metadata": {},
   "source": [
    "### Approach 1 : Harcoding the values for x and y, then swap th values without using the third variable.\n",
    "\n",
    "Test Case: 1: for x = 45 and y = 55 (for value of x less than value of y)"
   ]
  },
  {
   "cell_type": "code",
   "execution_count": 24,
   "id": "2db3de34-b22a-4085-ba72-fde644e53c1e",
   "metadata": {},
   "outputs": [],
   "source": [
    "x = 45 #Assigning integer value 20 to variable x\n",
    "y = 55 #Assigning integer value 30 to variable y\n",
    "x = x + y\n",
    "y = x - y\n",
    "x = x - y"
   ]
  },
  {
   "cell_type": "code",
   "execution_count": 25,
   "id": "5b52fee0-4104-4420-9760-83e50a01c4ce",
   "metadata": {},
   "outputs": [
    {
     "data": {
      "text/plain": [
       "55"
      ]
     },
     "execution_count": 25,
     "metadata": {},
     "output_type": "execute_result"
    }
   ],
   "source": [
    "x"
   ]
  },
  {
   "cell_type": "code",
   "execution_count": 26,
   "id": "8471cd1e-79bb-487c-be29-63216f4197c2",
   "metadata": {},
   "outputs": [
    {
     "data": {
      "text/plain": [
       "45"
      ]
     },
     "execution_count": 26,
     "metadata": {},
     "output_type": "execute_result"
    }
   ],
   "source": [
    "y"
   ]
  },
  {
   "cell_type": "markdown",
   "id": "16226c19-6156-41df-94a8-34b713016de7",
   "metadata": {},
   "source": [
    "Test Case: 2: for x = 100 and y = 60 (for value of x greater than value of y)"
   ]
  },
  {
   "cell_type": "code",
   "execution_count": 27,
   "id": "f6d51665-75ea-48d9-9149-b31f14863c09",
   "metadata": {},
   "outputs": [],
   "source": [
    "x = 100 #Assigning integer value 20 to variable x\n",
    "y = 60 #Assigning integer value 30 to variable y\n",
    "x = x + y\n",
    "y = x - y\n",
    "x = x - y"
   ]
  },
  {
   "cell_type": "code",
   "execution_count": 28,
   "id": "aaa64343-2faf-43e3-b0bc-2ae2a6674c11",
   "metadata": {},
   "outputs": [
    {
     "data": {
      "text/plain": [
       "60"
      ]
     },
     "execution_count": 28,
     "metadata": {},
     "output_type": "execute_result"
    }
   ],
   "source": [
    "x"
   ]
  },
  {
   "cell_type": "code",
   "execution_count": 29,
   "id": "b2648104-66af-4b61-b06b-228e862a300e",
   "metadata": {},
   "outputs": [
    {
     "data": {
      "text/plain": [
       "100"
      ]
     },
     "execution_count": 29,
     "metadata": {},
     "output_type": "execute_result"
    }
   ],
   "source": [
    "y"
   ]
  },
  {
   "cell_type": "markdown",
   "id": "17d563b5-d97d-4723-aa95-1cf2c5ae356c",
   "metadata": {},
   "source": [
    "### Approach 2 : values for x and y will be not be hardoced, then swap th values without using the third variable.\n",
    "Test Case: 1: for x = 45 and y = 55 (for value of x less than value of y)"
   ]
  },
  {
   "cell_type": "code",
   "execution_count": 1,
   "id": "7e16f68e-c42a-403f-bd29-86383d0a2b77",
   "metadata": {},
   "outputs": [
    {
     "name": "stdin",
     "output_type": "stream",
     "text": [
      " 45\n",
      " 65\n"
     ]
    },
    {
     "name": "stdout",
     "output_type": "stream",
     "text": [
      "Before Swap value of x and y 45 65\n",
      "After Swap value of x and y 65 45\n"
     ]
    }
   ],
   "source": [
    "x = input() #Assigning integer value 20 to variable x\n",
    "y = input() #Assigning integer value 30 to variable y\n",
    "print(\"Before Swap value of x and y\",x,y)\n",
    "''' Before we do any arithmatic operation we need to typecast the value assigned\n",
    "to x nd y from string to integer '''\n",
    "x = int(x) + int(y)\n",
    "y = int(x) - int(y)\n",
    "x = int(x) - int(y)\n",
    "print(\"After Swap value of x and y\",x,y)"
   ]
  },
  {
   "cell_type": "markdown",
   "id": "d76fea08-7e65-4f22-8be7-f0aeffce04e7",
   "metadata": {},
   "source": [
    "Test Case: 2: for x = 100 and y = 60 (for value of x greater than value of y)"
   ]
  },
  {
   "cell_type": "code",
   "execution_count": 2,
   "id": "50bac7d8-3610-4794-bb02-348153d00825",
   "metadata": {},
   "outputs": [
    {
     "name": "stdin",
     "output_type": "stream",
     "text": [
      " 100\n",
      " 60\n"
     ]
    },
    {
     "name": "stdout",
     "output_type": "stream",
     "text": [
      "Before Swap value of x and y 100 60\n",
      "After Swap value of x and y 60 100\n"
     ]
    }
   ],
   "source": [
    "x = input() #Assigning integer value 20 to variable x\n",
    "y = input() #Assigning integer value 30 to variable y\n",
    "print(\"Before Swap value of x and y\",x,y)\n",
    "''' Before we do any arithmatic operation we need to typecast the value assigned\n",
    "to x nd y from string to integer '''\n",
    "x = int(x) + int(y)\n",
    "y = int(x) - int(y)\n",
    "x = int(x) - int(y)\n",
    "print(\"After Swap value of x and y\",x,y)"
   ]
  },
  {
   "cell_type": "markdown",
   "id": "e76fbc8a-2bda-4f41-9abe-131dbe547483",
   "metadata": {},
   "source": [
    "Note: All the test cases has passed"
   ]
  },
  {
   "cell_type": "markdown",
   "id": "01b142a0-8b46-425c-92ff-58be07cc9ebd",
   "metadata": {},
   "source": [
    "Problem 2: Create a program that calculates the area of a rectangle. Take the\n",
    "length and width as inputs from the user and store them in variables.\n",
    "Calculate and display the area.\n",
    "\n",
    "Approach:\n",
    "\n",
    "##### Variable 'l' for length of the rectangle \n",
    "##### varible 'w' for width of the rectangle\n",
    "##### input() function will be used to take the length and width values from the user\n",
    "##### Variable 'A' for storing the calculated area value of the rectangle\n",
    "##### Formula for calculating the area of the rectangle = length(l) * width(W)\n"
   ]
  },
  {
   "cell_type": "code",
   "execution_count": 4,
   "id": "33b995f1-a454-4e2b-8f6d-9728a0cecfed",
   "metadata": {},
   "outputs": [
    {
     "name": "stdout",
     "output_type": "stream",
     "text": [
      "Enter the value of Length and Width of the Rectangle\n"
     ]
    },
    {
     "name": "stdin",
     "output_type": "stream",
     "text": [
      " 10.2\n"
     ]
    },
    {
     "name": "stdout",
     "output_type": "stream",
     "text": [
      "Length =  10.2\n"
     ]
    },
    {
     "name": "stdin",
     "output_type": "stream",
     "text": [
      " 3.4\n"
     ]
    },
    {
     "name": "stdout",
     "output_type": "stream",
     "text": [
      "Width =  3.4\n",
      "The Area of the rectangle =  34.68\n"
     ]
    }
   ],
   "source": [
    "print(\"Enter the value of Length and Width of the Rectangle\")\n",
    "l = input() #Assign the value of length of the rectangle to varaible 'l'\n",
    "print(\"Length = \",l)\n",
    "w = input() #Assign the value of width of the rectangle to varable 'w'\n",
    "print(\"Width = \",w)\n",
    "A = float(l) * float(w) # Typecast and do the mulitplication for finding the are aof the rectangle\n",
    "print(\"The Area of the rectangle = \",A)"
   ]
  },
  {
   "cell_type": "markdown",
   "id": "b1a4d745-cd02-4775-aa16-7079eaaff6e8",
   "metadata": {},
   "source": [
    "Problem 3: Write a Python program that converts temperature from Celsius to\n",
    "Fahrenheit. Take the temperature in Celsius as input, store it in a\n",
    "variable, convert it to Fahrenheit, and display the result."
   ]
  },
  {
   "cell_type": "markdown",
   "id": "8879cc6c-5a67-4569-a07d-6d789af7b66e",
   "metadata": {},
   "source": [
    "Approach:\n",
    "##### Declare a variable 'C' for storing the temperature in  Celsius\n",
    "##### Declare another variable 'F' for storing the coverted temperature value in farenheit\n",
    "##### input() function for get the user input for temperature measured in celsius\n",
    "##### Use  the following conversion formula\n",
    "            Fahrenheit (°F) = (Temperature in degrees Celsius (°C) * 9/5) + 32\n"
   ]
  },
  {
   "cell_type": "code",
   "execution_count": 3,
   "id": "3f98a279-6daa-4d8b-bfa6-92af2ab8184e",
   "metadata": {},
   "outputs": [
    {
     "name": "stdout",
     "output_type": "stream",
     "text": [
      "Enter the temperature value in Celcius\n"
     ]
    },
    {
     "name": "stdin",
     "output_type": "stream",
     "text": [
      " 36.6\n"
     ]
    },
    {
     "name": "stdout",
     "output_type": "stream",
     "text": [
      "++++++++++++++++++++++\n",
      "Temperature(°C) =  36.6\n",
      "++++++++++++++++++++++\n",
      " Temperature Value in Farenheit \n",
      "++++++++++++++++++++++\n",
      "Temperature(°F) =  97.88000000000001\n",
      "++++++++++++++++++++++\n"
     ]
    }
   ],
   "source": [
    "print(\"Enter the temperature value in Celcius\")\n",
    "C = input() #Assign the temperature value to variable 'C'\n",
    "print(\"++++++++++++++++++++++\")\n",
    "print(\"Temperature(°C) = \",float(C))\n",
    "print(\"++++++++++++++++++++++\")\n",
    "F = (float(C) * (9/5)) + 32 #Typecast and apply the conversion Formula\n",
    "print(\" Temperature Value in Farenheit \")\n",
    "print(\"++++++++++++++++++++++\")\n",
    "print(\"Temperature(°F) = \",F);\n",
    "print(\"++++++++++++++++++++++\")"
   ]
  },
  {
   "cell_type": "markdown",
   "id": "36726722-fc8d-4c41-a9b3-353209170e6e",
   "metadata": {},
   "source": [
    "### ====End Of Assignements for Topic : Python Basics Variable====="
   ]
  },
  {
   "cell_type": "markdown",
   "id": "33c2182d-f391-4896-8ddd-732b129a054a",
   "metadata": {},
   "source": [
    "# TOPIC: String Based Questions"
   ]
  },
  {
   "cell_type": "markdown",
   "id": "f9f40448-8968-42f3-9690-c6d738c06a3b",
   "metadata": {},
   "source": [
    "Problem 1: Write a Python program that takes a string as input and prints the\n",
    "length of the string."
   ]
  },
  {
   "cell_type": "markdown",
   "id": "02f53629-ab65-4dcb-aa88-0b7b0b56acc2",
   "metadata": {},
   "source": [
    "Approach:\n",
    "##### Declare a variable 'S' for storing the string\n",
    "##### Use the inbuilt function len() to measure the length of the string provided by the user\n",
    "##### Declare one more variable 'L' for storing the length value \n",
    "##### Display the Length"
   ]
  },
  {
   "cell_type": "code",
   "execution_count": 2,
   "id": "30620438-a806-4e30-9c71-936b7426e583",
   "metadata": {},
   "outputs": [
    {
     "name": "stdout",
     "output_type": "stream",
     "text": [
      "++++Please Enter The String++++\n"
     ]
    },
    {
     "name": "stdin",
     "output_type": "stream",
     "text": [
      " Hello How Are You!!\n"
     ]
    },
    {
     "name": "stdout",
     "output_type": "stream",
     "text": [
      " Length of the string =  19\n"
     ]
    }
   ],
   "source": [
    "print(\"++++Please Enter The String++++\")\n",
    "S = input() #Assign the user  input string the variable 'S'\n",
    "L = len(S) #inbuilt len() function is used to measure the length of the string \n",
    "print(\" Length of the string = \",L);"
   ]
  },
  {
   "cell_type": "markdown",
   "id": "2b386346-3d08-4f18-b7b1-644cb4d5b675",
   "metadata": {},
   "source": [
    "Problem 2: Create a program that takes a sentence from the user and counts the\n",
    "number of vowels (a, e, i, o, u) in the string."
   ]
  },
  {
   "cell_type": "markdown",
   "id": "d7febfc9-b61a-4146-a7b6-8a8a2eccd67d",
   "metadata": {},
   "source": [
    "Approach:\n",
    "##### Declare a variable 'S1' for storing a string through user Input\n",
    "##### First Convert the string to lower case\n",
    "##### Use the inbuilt function find() "
   ]
  },
  {
   "cell_type": "code",
   "execution_count": 16,
   "id": "39aafa5d-1ad2-4b2b-9dbc-6a93aea4d7b9",
   "metadata": {},
   "outputs": [
    {
     "name": "stdout",
     "output_type": "stream",
     "text": [
      "++++Please Enter The String++++\n"
     ]
    },
    {
     "name": "stdin",
     "output_type": "stream",
     "text": [
      " Create a program that takes a sentence from the user and counts the number of vowels (a, e, i, o, u) in the string.\n"
     ]
    },
    {
     "name": "stdout",
     "output_type": "stream",
     "text": [
      "The number of a's =  8\n",
      "The number of e's =  13\n",
      "The number of i's =  3\n",
      "The number of o's =  6\n",
      "The number of u's =  4\n"
     ]
    }
   ],
   "source": [
    "print(\"++++Please Enter The String++++\")\n",
    "S1 = input() #Assign the user input to the variable 'S1'\n",
    "S1 = S1.lower() #Normalising the string by converting the all the alphabets to lower case \n",
    "print(\"The number of a's = \", S1.count('a')) #Print the number of occurance of 'a'\n",
    "print(\"The number of e's = \", S1.count('e')) #Print the number of occurance of 'e'\n",
    "print(\"The number of i's = \", S1.count('i')) #Print the number of occurance of 'i'\n",
    "print(\"The number of o's = \", S1.count('o')) #Print the number of occurance of 'o'\n",
    "print(\"The number of u's = \", S1.count('u')) #Print the number of occurance of 'u'"
   ]
  },
  {
   "cell_type": "markdown",
   "id": "750e1a6c-9521-47a0-b5e2-4b7bbf6c6f46",
   "metadata": {},
   "source": [
    "Problem 3: Given a string, reverse the order of characters using string slicing and\n",
    "print the reversed string."
   ]
  },
  {
   "cell_type": "markdown",
   "id": "35b9e8e6-bac6-49ac-a032-f086d8eae74c",
   "metadata": {},
   "source": [
    "Approach:\n",
    "##### Declare a variable 'S2' for storing a string through user Input "
   ]
  },
  {
   "cell_type": "code",
   "execution_count": 18,
   "id": "8a6ea07f-ca56-4f76-afdf-a85b50d8f90b",
   "metadata": {},
   "outputs": [
    {
     "name": "stdout",
     "output_type": "stream",
     "text": [
      "++++Please Enter The String++++\n"
     ]
    },
    {
     "name": "stdin",
     "output_type": "stream",
     "text": [
      " Hi My Name is Abhinav\n"
     ]
    },
    {
     "name": "stdout",
     "output_type": "stream",
     "text": [
      "++++The Reversed String++++\n",
      "vanihbA si emaN yM iH\n"
     ]
    }
   ],
   "source": [
    "print(\"++++Please Enter The String++++\")\n",
    "S2 = input() #Assign the user input to the variable 'S2'\n",
    "print(\"++++The Reversed String++++\")\n",
    "print(S2[::-1])"
   ]
  },
  {
   "cell_type": "markdown",
   "id": "6058b68d-c769-4d39-997d-0190a9e55844",
   "metadata": {},
   "source": [
    "Problem 4: Write a program that takes a string as input and checks if it is a palindrome (reads the same forwards and backwards)."
   ]
  },
  {
   "cell_type": "markdown",
   "id": "d11a0f5c-ca37-47d8-9aae-36b3a2e541e5",
   "metadata": {},
   "source": [
    "Approach:\n",
    "##### Declare a variable 'S3' for storing a string through user input\n",
    "##### Convert all the alphabe to lower case\n",
    "##### Reverse The string and store it in a new variable 'S4'\n",
    "##### Use \"==\" conditional operator for finding out whether the string enterd by the user is pallindrome or not "
   ]
  },
  {
   "cell_type": "code",
   "execution_count": 34,
   "id": "a3fd7870-84b0-4a5c-a44a-f69911d58e6a",
   "metadata": {},
   "outputs": [
    {
     "name": "stdout",
     "output_type": "stream",
     "text": [
      "++++Please Enter The String++++\n"
     ]
    },
    {
     "name": "stdin",
     "output_type": "stream",
     "text": [
      " Deified\n"
     ]
    },
    {
     "name": "stdout",
     "output_type": "stream",
     "text": [
      "The String is a Pallindrome\n"
     ]
    }
   ],
   "source": [
    "print(\"++++Please Enter The String++++\")\n",
    "S3 = input() #Assign user input to the string\n",
    "S3 = S3.lower() #Convet all the alphabet used in the word to lower case\n",
    "S4 = S3[::-1] # Reversing the Entered String\n",
    "if(S3 == S4):\n",
    "    print(\"The String is a Pallindrome\")\n",
    "else:\n",
    "    print(\"The String is not a Pallindrome\")"
   ]
  },
  {
   "cell_type": "markdown",
   "id": "288255d2-6f67-46d6-b2cd-7660c7660e58",
   "metadata": {},
   "source": [
    "Problem 5: Create a program that takes a string as input and removes all the\n",
    "spaces from it. Print the modified string without spaces."
   ]
  },
  {
   "cell_type": "markdown",
   "id": "d3efaaf3-b27a-4904-a69e-8e5df73e2070",
   "metadata": {},
   "source": [
    "Approach:\n",
    "##### Declare a variable 'S4' for storing a string through user input\n",
    "##### Remove the spaces using the inbuilt function replace() "
   ]
  },
  {
   "cell_type": "code",
   "execution_count": 53,
   "id": "e1baa0d9-2617-4702-a7b9-91eecd21173f",
   "metadata": {},
   "outputs": [
    {
     "name": "stdout",
     "output_type": "stream",
     "text": [
      "++++Please Enter The String++++\n"
     ]
    },
    {
     "name": "stdin",
     "output_type": "stream",
     "text": [
      " . Create a program that takes a string as input and removes all the spaces from it. Print the modified string without spaces.\n"
     ]
    },
    {
     "name": "stdout",
     "output_type": "stream",
     "text": [
      "++++Modified String Without Spaces++++\n",
      ".Createaprogramthattakesastringasinputandremovesallthespacesfromit.Printthemodifiedstringwithoutspaces.\n"
     ]
    }
   ],
   "source": [
    "print(\"++++Please Enter The String++++\")\n",
    "S4 = input() #Assign user input to the string\n",
    "S4 = S4.replace(\" \",\"\")\n",
    "print(\"++++Modified String Without Spaces++++\")\n",
    "print(S4)"
   ]
  },
  {
   "cell_type": "markdown",
   "id": "d008285c-abd5-466c-ae86-b18ce4a32a2c",
   "metadata": {},
   "source": [
    "### ====End Of Assignements for Topic : String Based Questions====="
   ]
  },
  {
   "cell_type": "code",
   "execution_count": null,
   "id": "25a99632-f921-4c88-9e0a-f41f737da232",
   "metadata": {},
   "outputs": [],
   "source": []
  }
 ],
 "metadata": {
  "kernelspec": {
   "display_name": "Python 3 (ipykernel)",
   "language": "python",
   "name": "python3"
  },
  "language_info": {
   "codemirror_mode": {
    "name": "ipython",
    "version": 3
   },
   "file_extension": ".py",
   "mimetype": "text/x-python",
   "name": "python",
   "nbconvert_exporter": "python",
   "pygments_lexer": "ipython3",
   "version": "3.10.8"
  }
 },
 "nbformat": 4,
 "nbformat_minor": 5
}
